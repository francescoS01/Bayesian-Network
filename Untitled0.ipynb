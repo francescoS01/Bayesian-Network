{
  "nbformat": 4,
  "nbformat_minor": 0,
  "metadata": {
    "colab": {
      "provenance": [],
      "authorship_tag": "ABX9TyPVEHgEunbyjuejgHFOUN1P",
      "include_colab_link": true
    },
    "kernelspec": {
      "name": "python3",
      "display_name": "Python 3"
    },
    "language_info": {
      "name": "python"
    }
  },
  "cells": [
    {
      "cell_type": "markdown",
      "metadata": {
        "id": "view-in-github",
        "colab_type": "text"
      },
      "source": [
        "<a href=\"https://colab.research.google.com/github/francescoS01/Bayesian-Network/blob/main/Untitled0.ipynb\" target=\"_parent\"><img src=\"https://colab.research.google.com/assets/colab-badge.svg\" alt=\"Open In Colab\"/></a>"
      ]
    },
    {
      "cell_type": "code",
      "execution_count": 4,
      "metadata": {
        "colab": {
          "base_uri": "https://localhost:8080/"
        },
        "id": "vjEVHhzJLkTL",
        "outputId": "fbfe1b0c-2ca5-41c7-d5de-f4bc78b3bf9a"
      },
      "outputs": [
        {
          "output_type": "stream",
          "name": "stdout",
          "text": [
            "fatal: destination path 'Bayesian-Network' already exists and is not an empty directory.\n"
          ]
        }
      ],
      "source": [
        "!git clone https://github.com/francescoS01/Bayesian-Network.git"
      ]
    },
    {
      "cell_type": "markdown",
      "source": [],
      "metadata": {
        "id": "_X9X3ZPJLzqs"
      }
    },
    {
      "cell_type": "code",
      "source": [
        "class Node:\n",
        "    def __init__(self, name):\n",
        "        self.name = name\n",
        "        self.parents = []\n",
        "        self.children = []\n",
        "        self.probabilities = {}\n",
        "\n",
        "    def add_parent(self, parent_node):\n",
        "        self.parents.append(parent_node)\n",
        "\n",
        "    def add_child(self, child_node):\n",
        "        self.children.append(child_node)\n",
        "\n",
        "    def set_probability(self, parents_values, probability):\n",
        "        self.probabilities[tuple(parents_values)] = probability\n",
        "\n",
        "    def get_name(self):\n",
        "        return self.name\n",
        "\n",
        "    def get_parents(self):\n",
        "        return self.parents\n",
        "\n",
        "    def get_children(self):\n",
        "        return self.children\n",
        "\n",
        "    def get_probability(self, parents_values):\n",
        "        return self.probabilities.get(tuple(parents_values), None)\n",
        "\n",
        "    def __str__(self):\n",
        "        return f\"Node: {self.name}\"\n",
        "\n",
        "# Creazione dei nodi\n",
        "health_node = Node(\"Health\")\n",
        "sleep_node = Node(\"Sleep\")\n",
        "diet_node = Node(\"Diet\")\n",
        "stress_node = Node(\"Stress\")\n",
        "mood_node = Node(\"Mood\")\n",
        "study_time_node = Node(\"Study Time\")\n",
        "class_attention_node = Node(\"Class Attention\")\n",
        "\n",
        "# parents definition for every node\n",
        "sleep_node.add_parent(health_node)\n",
        "sleep_node.add_parent(stress_node)\n",
        "\n",
        "diet_node.add_parent(health_node)\n",
        "\n",
        "stress_node.add_parent(health_node)\n",
        "\n",
        "mood_node.add_parent(health_node)\n",
        "mood_node.add_parent(sleep_node)\n",
        "\n",
        "study_time_node.add_parent(mood_node)\n",
        "\n",
        "class_attention_node.add_parent(mood_node)\n",
        "class_attention_node.add_parent(study_time_node)\n",
        "\n",
        "# Definizione delle probabilità per ogni nodo\n",
        "health_node.set_probability((), 0.7)\n",
        "\n",
        "sleep_node.set_probability((\"Positivo\", \"Positivo\"), 0.8)\n",
        "sleep_node.set_probability((\"Positivo\", \"Negativo\"), 0.7)\n",
        "sleep_node.set_probability((\"Negativo\", \"Positivo\"), 0.4)\n",
        "sleep_node.set_probability((\"Negativo\", \"Negativo\"), 0.3)\n",
        "\n",
        "diet_node.set_probability((\"Positivo\",), 0.8)\n",
        "diet_node.set_probability((\"Negativo\",), 0.3)\n",
        "\n",
        "stress_node.set_probability((\"Positivo\",), 0.2)\n",
        "stress_node.set_probability((\"Negativo\",), 0.7)\n",
        "\n",
        "mood_node.set_probability((\"Positivo\", \"Positivo\"), 0.8)\n",
        "mood_node.set_probability((\"Positivo\", \"Negativo\"), 0.7)\n",
        "mood_node.set_probability((\"Negativo\", \"Positivo\"), 0.4)\n",
        "mood_node.set_probability((\"Negativo\", \"Negativo\"), 0.3)\n",
        "\n",
        "study_time_node.set_probability((\"Positivo\",), 0.6)\n",
        "study_time_node.set_probability((\"Negativo\",), 0.4)\n",
        "\n",
        "class_attention_node.set_probability((\"Positivo\", \"Positivo\"), 0.7)\n",
        "class_attention_node.set_probability((\"Positivo\", \"Negativo\"), 0.5)\n",
        "class_attention_node.set_probability((\"Negativo\", \"Positivo\"), 0.4)\n",
        "class_attention_node.set_probability((\"Negativo\", \"Negativo\"), 0.2)\n",
        "\n",
        "# Stampa dei nodi e delle probabilità associate\n",
        "for node in [health_node, sleep_node, diet_node, stress_node, mood_node, study_time_node, class_attention_node]:\n",
        "    print(f\"{node.get_name()}: {node.probabilities}\")\n",
        "\n",
        "# Output di prova\n",
        "print(\"prova\")\n"
      ],
      "metadata": {
        "colab": {
          "base_uri": "https://localhost:8080/"
        },
        "id": "XztNzd9SL0AK",
        "outputId": "d45a3a5f-d521-47f6-9bca-45d37d52f36d"
      },
      "execution_count": 5,
      "outputs": [
        {
          "output_type": "stream",
          "name": "stdout",
          "text": [
            "Health: {(): 0.7}\n",
            "Sleep: {('Positivo', 'Positivo'): 0.8, ('Positivo', 'Negativo'): 0.7, ('Negativo', 'Positivo'): 0.4, ('Negativo', 'Negativo'): 0.3}\n",
            "Diet: {('Positivo',): 0.8, ('Negativo',): 0.3}\n",
            "Stress: {('Positivo',): 0.2, ('Negativo',): 0.7}\n",
            "Mood: {('Positivo', 'Positivo'): 0.8, ('Positivo', 'Negativo'): 0.7, ('Negativo', 'Positivo'): 0.4, ('Negativo', 'Negativo'): 0.3}\n",
            "Study Time: {('Positivo',): 0.6, ('Negativo',): 0.4}\n",
            "Class Attention: {('Positivo', 'Positivo'): 0.7, ('Positivo', 'Negativo'): 0.5, ('Negativo', 'Positivo'): 0.4, ('Negativo', 'Negativo'): 0.2}\n",
            "prova\n"
          ]
        }
      ]
    }
  ]
}