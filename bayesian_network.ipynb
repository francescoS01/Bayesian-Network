{
  "cells": [
    {
      "cell_type": "markdown",
      "metadata": {
        "colab_type": "text",
        "id": "view-in-github"
      },
      "source": [
        "<a href=\"https://colab.research.google.com/github/francescoS01/Bayesian-Network/blob/main/bayesian_network.ipynb\" target=\"_parent\"><img src=\"https://colab.research.google.com/assets/colab-badge.svg\" alt=\"Open In Colab\"/></a>"
      ]
    },
    {
      "cell_type": "markdown",
      "metadata": {},
      "source": [
        "\n",
        "\n",
        "### **1. Bayesian node class**\n",
        "\n",
        "##### **1.1 get and set**:\n",
        "##### **1.2 value generate**: \n",
        "jbnjue"
      ]
    },
    {
      "cell_type": "code",
      "execution_count": 1,
      "metadata": {
        "id": "IrF_NF9eT-9k"
      },
      "outputs": [],
      "source": [
        "import random\n",
        "from typing import List\n",
        "\n",
        "class BayesianNode:\n",
        "    def __init__(self, node_name, possible_value, cpt, current_value=None, children=[], parents=[]):\n",
        "        self.node_name = node_name\n",
        "        self.possible_value = possible_value\n",
        "        self.children = children\n",
        "        self.parents = parents\n",
        "        self.cpt = cpt\n",
        "        self.current_value = current_value  # Aggiungo l'attributo per memorizzare lo stato corrente\n",
        "        self.children_update()  # Chiamata al metodo update al momento dell'inizializzazione\n",
        "\n",
        "    def children_update(self):\n",
        "        for parent in self.parents:\n",
        "            parent.set_children(self)\n",
        "\n",
        "    def set_children(self, new_child: 'BayesianNode'):\n",
        "        self.children.append(new_child)\n",
        "\n",
        "    def set_parents(self, parents):\n",
        "        self.parents = parents\n",
        "\n",
        "    def set_current_state(self, value): \n",
        "        self.current_value = value\n",
        "\n",
        "    def get_name(self):\n",
        "        return self.node_name\n",
        "\n",
        "    def get_parents(self):\n",
        "        return self.parents\n",
        "    \n",
        "    def get_children(self): \n",
        "        return self.children\n",
        "     \n",
        "    def get_current_state(self): \n",
        "        return self.current_value\n",
        "    \n",
        "    def get_cpt(self): \n",
        "        return self.cpt \n",
        "    \n",
        "    def value_generate(self):\n",
        "        # create a dictionary with paretns and them value\n",
        "        parent_value_dict = {}\n",
        "        for parent in self.parents :\n",
        "            parent_name = parent.get_name()\n",
        "            value = parent.get_current_state()\n",
        "            parent_value_dict[parent_name] = value\n",
        "        \n",
        "        # create a dictionary of probability fo self node knowing parents and them values \n",
        "        probability_distribution = {}\n",
        "        for value in self.possible_value:\n",
        "            new = parent_value_dict.copy()\n",
        "            new[self.node_name] = value\n",
        "            for dict in self.cpt: \n",
        "                new['prob'] = dict['prob']\n",
        "                if dict == new:\n",
        "                    probability_distribution[value] = dict['prob']\n",
        "        \n",
        "        # foloowing the probility, extract one value of the self node \n",
        "        numero_random = random.random() # 0 -1 \n",
        "        accumulate = 0\n",
        "        for key, prob in probability_distribution.items():\n",
        "            accumulate += prob\n",
        "            if accumulate >= numero_random:\n",
        "                self.current_value = key\n",
        "                return key"
      ]
    },
    {
      "cell_type": "markdown",
      "metadata": {},
      "source": [
        "### **2. Network node class**\n"
      ]
    },
    {
      "cell_type": "code",
      "execution_count": 2,
      "metadata": {},
      "outputs": [],
      "source": [
        "import random\n",
        "from bayesian_node import *\n",
        "# Ora puoi utilizzare le funzioni e le classi definite in node.py\n",
        "\n",
        "from typing import List\n",
        "\n",
        "class Network:\n",
        "    def __init__(self, nodes:List[BayesianNode]):\n",
        "        self.net_nodes = nodes\n",
        "\n",
        "    def topological_sort(self):\n",
        "        visited = []\n",
        "        parents_count = {node: 0 for node in self.net_nodes}\n",
        "\n",
        "        # InizializzO il conteggio dei genitori per ciascun nodo\n",
        "        for node in self.net_nodes:\n",
        "            for child in node.children:\n",
        "                parents_count[child] += 1\n",
        "\n",
        "        # TrovO nodi senza genitori\n",
        "        no_parents = [node for node in self.net_nodes if parents_count[node] == 0]\n",
        "\n",
        "        # IterO sui nodi senza genitori e visita i loro figli\n",
        "        while no_parents:\n",
        "            node = no_parents.pop(0)\n",
        "            visited.append(node)\n",
        "            for child in node.children:\n",
        "                parents_count[child] -= 1\n",
        "                if parents_count[child] == 0:\n",
        "                    no_parents.append(child)\n",
        "\n",
        "        return visited\n"
      ]
    },
    {
      "cell_type": "markdown",
      "metadata": {},
      "source": [
        "### **3. Node creation**"
      ]
    },
    {
      "cell_type": "code",
      "execution_count": 3,
      "metadata": {},
      "outputs": [],
      "source": [
        "# NODE 1: healt node\n",
        "possible_value = ['good', 'not good']\n",
        "healt_node_name = 'healt'\n",
        "current_value = None\n",
        "parents = []\n",
        "children = []\n",
        "cpt = [{healt_node_name:'good', 'prob': 0.7}, \n",
        "       {healt_node_name:'not good', 'prob': 0.7}]\n",
        "healt_node = BayesianNode(healt_node_name, possible_value , cpt, current_value, children, parents)\n",
        "\n",
        "# NODE 2: stress node \n",
        "possibile_value = ['stressed', 'not stressed']\n",
        "stress_node_name = 'stress'\n",
        "current_value = None\n",
        "parents = [healt_node]\n",
        "children = []\n",
        "healt_name = healt_node.get_name()\n",
        "cpt =  [{stress_node_name: 'stressed', healt_node_name: 'good', 'prob':0.2}, \n",
        "        {stress_node_name: 'stressed', healt_node_name: 'not good', 'prob':0.7},\n",
        "        {stress_node_name: 'not stressed', healt_node_name: 'good', 'prob':0.8},\n",
        "        {stress_node_name: 'not stressed', healt_node_name: 'good', 'prob':0.3}]\n",
        "stress_node = BayesianNode(stress_node_name, possible_value , cpt, current_value, children, parents)\n",
        "\n",
        "# NODE 3: sleep node\n",
        "sleep_possibile_value = ['good', 'not good']\n",
        "sleep_node_name = 'sleep'\n",
        "parents = [healt_node, stress_node]\n",
        "children = []\n",
        "current_value = None\n",
        "healt_name = healt_node.get_name()\n",
        "stress_name = stress_node.get_name()\n",
        "cpt = [                                                                                                 \n",
        "    {sleep_node_name: 'good', healt_name: 'good', stress_name: 'stressed', 'prob':0.3},\n",
        "    {sleep_node_name: 'good', healt_name: 'good', stress_name: 'not stressed', 'prob':0.5},\n",
        "    {sleep_node_name: 'good', healt_name: 'not good', stress_name: 'stressed', 'prob':0.1}, \n",
        "    {sleep_node_name: 'good', healt_name: 'not good', stress_name: 'not stressed', 'prob':0.5},\n",
        "    {sleep_node_name: 'not good', healt_name: 'good', stress_name: 'stressed', 'prob':0.7},\n",
        "    {sleep_node_name: 'not good', healt_name: 'good', stress_name: 'not stressed', 'prob':0.5},\n",
        "    {sleep_node_name: 'not good', healt_name: 'not good', stress_name: 'stressed', 'prob':0.9},\n",
        "    {sleep_node_name: 'not good', healt_name: 'not good', stress_name: 'not stressed', 'prob':0.5}]\n",
        "sleep_node = BayesianNode(sleep_node_name, possible_value , cpt, current_value, children, parents)"
      ]
    },
    {
      "cell_type": "markdown",
      "metadata": {},
      "source": [
        "#### **4. Main**"
      ]
    },
    {
      "cell_type": "code",
      "execution_count": 4,
      "metadata": {},
      "outputs": [
        {
          "name": "stdout",
          "output_type": "stream",
          "text": [
            "good\n",
            "healt\n",
            "stress\n",
            "sleep\n"
          ]
        }
      ],
      "source": [
        "# ---------------------- NODE TEST ----------------------------\n",
        "healt_node.set_current_state('not good')\n",
        "stress_node.set_current_state('not stressed')\n",
        "z = sleep_node.value_generate()\n",
        "print(z)\n",
        "\n",
        "\n",
        "\n",
        "# ------------------------- NET TEST --------------------------------\n",
        "net = Network([sleep_node, stress_node, healt_node])\n",
        "order_nodes = net.topological_sort()\n",
        "for node in order_nodes: \n",
        "    print(node.get_name())\n"
      ]
    }
  ],
  "metadata": {
    "colab": {
      "authorship_tag": "ABX9TyM+ErgHOQFC5PqjsphhuHEA",
      "include_colab_link": true,
      "provenance": []
    },
    "kernelspec": {
      "display_name": "Python 3",
      "name": "python3"
    },
    "language_info": {
      "codemirror_mode": {
        "name": "ipython",
        "version": 3
      },
      "file_extension": ".py",
      "mimetype": "text/x-python",
      "name": "python",
      "nbconvert_exporter": "python",
      "pygments_lexer": "ipython3",
      "version": "3.10.12"
    }
  },
  "nbformat": 4,
  "nbformat_minor": 0
}
